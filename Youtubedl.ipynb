{
  "nbformat": 4,
  "nbformat_minor": 0,
  "metadata": {
    "colab": {
      "name": "Youtubedl.ipynb",
      "provenance": [],
      "collapsed_sections": [],
      "include_colab_link": true
    },
    "kernelspec": {
      "name": "python3",
      "display_name": "Python 3"
    }
  },
  "cells": [
    {
      "cell_type": "markdown",
      "metadata": {
        "id": "view-in-github",
        "colab_type": "text"
      },
      "source": [
        "<a href=\"https://colab.research.google.com/github/arlessweschler/-nother-notebook/blob/master/Youtubedl.ipynb\" target=\"_parent\"><img src=\"https://colab.research.google.com/assets/colab-badge.svg\" alt=\"Open In Colab\"/></a>"
      ]
    },
    {
      "cell_type": "markdown",
      "metadata": {
        "id": "l1xZ3YTCc3hN",
        "colab_type": "text"
      },
      "source": [
        "# Google Drive Login"
      ]
    },
    {
      "cell_type": "code",
      "metadata": {
        "id": "Uo_Bd1WwFFOP",
        "colab_type": "code",
        "colab": {}
      },
      "source": [
        "from google.colab import drive\n",
        "drive.mount('/content/drive')"
      ],
      "execution_count": null,
      "outputs": []
    },
    {
      "cell_type": "markdown",
      "metadata": {
        "id": "BsN0qvw8dD8k",
        "colab_type": "text"
      },
      "source": [
        "# Install Ytdl"
      ]
    },
    {
      "cell_type": "code",
      "metadata": {
        "id": "7RBGT0nnZNzk",
        "colab_type": "code",
        "colab": {
          "base_uri": "https://localhost:8080/",
          "height": 115
        },
        "outputId": "1e665f2f-b339-49d6-aa79-225bb824bb0f"
      },
      "source": [
        "!sudo curl -L https://yt-dl.org/downloads/latest/youtube-dl -o /usr/local/bin/youtube-dl"
      ],
      "execution_count": null,
      "outputs": [
        {
          "output_type": "stream",
          "text": [
            "  % Total    % Received % Xferd  Average Speed   Time    Time     Time  Current\n",
            "                                 Dload  Upload   Total   Spent    Left  Speed\n",
            "\r  0     0    0     0    0     0      0      0 --:--:-- --:--:-- --:--:--     0\r  0     3    0     0    0     0      0      0 --:--:-- --:--:-- --:--:--     0\n",
            "\r  0     0    0     0    0     0      0      0 --:--:-- --:--:-- --:--:--     0\r  0     3    0     0    0     0      0      0 --:--:--  0:00:01 --:--:--     0\n",
            "\r100   619  100   619    0     0    524      0  0:00:01  0:00:01 --:--:--   524\n",
            "\r100 1715k  100 1715k    0     0  1278k      0  0:00:01  0:00:01 --:--:-- 1278k\n"
          ],
          "name": "stdout"
        }
      ]
    },
    {
      "cell_type": "code",
      "metadata": {
        "id": "m3l8wAQ_cF0J",
        "colab_type": "code",
        "colab": {}
      },
      "source": [
        "!sudo chmod a+rx /usr/local/bin/youtube-dl"
      ],
      "execution_count": null,
      "outputs": []
    },
    {
      "cell_type": "markdown",
      "metadata": {
        "id": "aFZeF9akdQ4-",
        "colab_type": "text"
      },
      "source": [
        "# change Your directory where You want to Download Your Playlist"
      ]
    },
    {
      "cell_type": "code",
      "metadata": {
        "id": "-p-0zQEdoKq4",
        "colab_type": "code",
        "colab": {}
      },
      "source": [
        "cd "
      ],
      "execution_count": null,
      "outputs": []
    },
    {
      "cell_type": "markdown",
      "metadata": {
        "id": "LDB0ICEpbi7Y",
        "colab_type": "text"
      },
      "source": [
        "# Download Youtube PlayList\n"
      ]
    },
    {
      "cell_type": "markdown",
      "metadata": {
        "id": "pXAi4Yl-br-4",
        "colab_type": "text"
      },
      "source": [
        "\n",
        "\n",
        "*   ID of Your Playlist From above example - **PLjwBf9QEIO979QpN8DZ_Q_E942KA_w27Q**\n",
        "\n",
        "\n",
        "\n",
        "\n",
        "---\n",
        "\n",
        "\n",
        "> For 480p Command Like this-\n",
        "***!youtube-dl -f 'bestvideo[height<=480]+bestaudio/best[height<=480]' -i \"yt playlist link or id\"***\n",
        "\n",
        "For quality Change Go to [YTDl Repo](https://github.com/ytdl-org/youtube-dl#format-selection) Format section\n",
        "\n",
        "\n"
      ]
    },
    {
      "cell_type": "code",
      "metadata": {
        "id": "a1XU7BG2cVuW",
        "colab_type": "code",
        "colab": {
          "base_uri": "https://localhost:8080/",
          "height": 391
        },
        "outputId": "db6e02a6-074d-4038-b73b-c174c8852bee"
      },
      "source": [
        "!youtube-dl -F https://www.youtube.com/watch?v=8IB7JcKJEeI"
      ],
      "execution_count": null,
      "outputs": [
        {
          "output_type": "stream",
          "text": [
            "[youtube] 8IB7JcKJEeI: Downloading webpage\n",
            "[info] Available formats for 8IB7JcKJEeI:\n",
            "format code  extension  resolution note\n",
            "249          webm       audio only tiny   53k , opus @ 50k (48000Hz), 4.16MiB\n",
            "250          webm       audio only tiny   71k , opus @ 70k (48000Hz), 5.39MiB\n",
            "140          m4a        audio only tiny  130k , m4a_dash container, mp4a.40.2@128k (44100Hz), 10.57MiB\n",
            "251          webm       audio only tiny  133k , opus @160k (48000Hz), 9.71MiB\n",
            "160          mp4        256x128    144p   70k , avc1.4d400c, 30fps, video only, 2.88MiB\n",
            "278          webm       256x128    144p   77k , webm container, vp9, 30fps, video only, 5.46MiB\n",
            "242          webm       426x214    240p  169k , vp9, 30fps, video only, 8.48MiB\n",
            "133          mp4        426x214    240p  180k , avc1.4d400d, 30fps, video only, 5.88MiB\n",
            "134          mp4        640x320    360p  329k , avc1.4d401e, 30fps, video only, 9.47MiB\n",
            "243          webm       640x320    360p  356k , vp9, 30fps, video only, 15.67MiB\n",
            "135          mp4        854x428    480p  470k , avc1.4d401f, 30fps, video only, 14.89MiB\n",
            "244          webm       854x428    480p  661k , vp9, 30fps, video only, 25.93MiB\n",
            "136          mp4        1280x640   720p  915k , avc1.4d401f, 30fps, video only, 21.67MiB\n",
            "247          webm       1280x640   720p 1338k , vp9, 30fps, video only, 47.80MiB\n",
            "248          webm       1920x960   1080p 2025k , vp9, 30fps, video only, 85.27MiB\n",
            "137          mp4        1920x960   1080p 2197k , avc1.640028, 30fps, video only, 73.34MiB\n",
            "271          webm       2560x1280  1440p 6478k , vp9, 30fps, video only, 205.30MiB\n",
            "313          webm       3840x1920  2160p 14423k , vp9, 30fps, video only, 642.77MiB\n",
            "18           mp4        640x320    360p  375k , avc1.42001E, 30fps, mp4a.40.2@ 96k (44100Hz), 30.64MiB\n",
            "22           mp4        1280x640   720p  394k , avc1.64001F, 30fps, mp4a.40.2@192k (44100Hz) (best)\n"
          ],
          "name": "stdout"
        }
      ]
    }
  ]
}